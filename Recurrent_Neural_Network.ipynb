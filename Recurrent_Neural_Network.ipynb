{
  "nbformat": 4,
  "nbformat_minor": 0,
  "metadata": {
    "colab": {
      "name": "Recurrent_Neural_Network.ipynb",
      "provenance": [],
      "authorship_tag": "ABX9TyPsSWUnp8p1f3q80UphLg1p",
      "include_colab_link": true
    },
    "kernelspec": {
      "name": "python3",
      "display_name": "Python 3"
    }
  },
  "cells": [
    {
      "cell_type": "markdown",
      "metadata": {
        "id": "view-in-github",
        "colab_type": "text"
      },
      "source": [
        "<a href=\"https://colab.research.google.com/github/KruthigaKarunakaran/Deep-Learning-and-Neural-Network/blob/master/Recurrent_Neural_Network.ipynb\" target=\"_parent\"><img src=\"https://colab.research.google.com/assets/colab-badge.svg\" alt=\"Open In Colab\"/></a>"
      ]
    },
    {
      "cell_type": "code",
      "metadata": {
        "id": "Gt42JXxUchKB",
        "colab_type": "code",
        "colab": {
          "base_uri": "https://localhost:8080/",
          "height": 204
        },
        "outputId": "5752fd67-3036-4177-ee2f-a2c2a5f5c9da"
      },
      "source": [
        "import pandas as pd\n",
        "import numpy as np\n",
        "import matplotlib.pyplot as plt\n",
        "from keras.models import Sequential\n",
        "from keras.layers import Dense, SimpleRNN\n",
        "\n",
        "N = 1000    \n",
        "Tp = 800\n",
        "t=np.arange(0,N) # Generate number between 0 and N\n",
        "x=np.sin(0.02*t)+2*np.random.rand(N)\n",
        "df = pd.DataFrame(x)\n",
        "df.head()"
      ],
      "execution_count": 9,
      "outputs": [
        {
          "output_type": "execute_result",
          "data": {
            "text/html": [
              "<div>\n",
              "<style scoped>\n",
              "    .dataframe tbody tr th:only-of-type {\n",
              "        vertical-align: middle;\n",
              "    }\n",
              "\n",
              "    .dataframe tbody tr th {\n",
              "        vertical-align: top;\n",
              "    }\n",
              "\n",
              "    .dataframe thead th {\n",
              "        text-align: right;\n",
              "    }\n",
              "</style>\n",
              "<table border=\"1\" class=\"dataframe\">\n",
              "  <thead>\n",
              "    <tr style=\"text-align: right;\">\n",
              "      <th></th>\n",
              "      <th>0</th>\n",
              "    </tr>\n",
              "  </thead>\n",
              "  <tbody>\n",
              "    <tr>\n",
              "      <th>0</th>\n",
              "      <td>0.653418</td>\n",
              "    </tr>\n",
              "    <tr>\n",
              "      <th>1</th>\n",
              "      <td>1.403592</td>\n",
              "    </tr>\n",
              "    <tr>\n",
              "      <th>2</th>\n",
              "      <td>0.771732</td>\n",
              "    </tr>\n",
              "    <tr>\n",
              "      <th>3</th>\n",
              "      <td>1.540142</td>\n",
              "    </tr>\n",
              "    <tr>\n",
              "      <th>4</th>\n",
              "      <td>1.992694</td>\n",
              "    </tr>\n",
              "  </tbody>\n",
              "</table>\n",
              "</div>"
            ],
            "text/plain": [
              "          0\n",
              "0  0.653418\n",
              "1  1.403592\n",
              "2  0.771732\n",
              "3  1.540142\n",
              "4  1.992694"
            ]
          },
          "metadata": {
            "tags": []
          },
          "execution_count": 9
        }
      ]
    },
    {
      "cell_type": "code",
      "metadata": {
        "id": "IUUskR-1dmwD",
        "colab_type": "code",
        "colab": {
          "base_uri": "https://localhost:8080/",
          "height": 265
        },
        "outputId": "30376582-a318-416f-92d4-7012e9abfb0c"
      },
      "source": [
        "plt.plot(df)\n",
        "plt.show() "
      ],
      "execution_count": 10,
      "outputs": [
        {
          "output_type": "display_data",
          "data": {
            "image/png": "[encoded data removed]",
            "text/plain": [
              "<Figure size 432x288 with 1 Axes>"
            ]
          },
          "metadata": {
            "tags": []
          }
        }
      ]
    },
    {
      "cell_type": "code",
      "metadata": {
        "id": "Z5BKy3N8dxGW",
        "colab_type": "code",
        "colab": {
          "base_uri": "https://localhost:8080/",
          "height": 34
        },
        "outputId": "2e770333-39f5-42be-8810-d51f31b28972"
      },
      "source": [
        "values=df.values\n",
        "train,test = values[0:Tp,:], values[Tp:N,:]\n",
        "step = 4\n",
        "test = np.append(test,np.repeat(test[-1,],step))\n",
        "train = np.append(train,np.repeat(train[-1,],step))\n",
        "\n",
        "def convertToMatrix(data, step):\n",
        " X, Y =[], []\n",
        " for i in range(len(data)-step):\n",
        "  d=i+step  \n",
        "  X.append(data[i:d,])\n",
        "  Y.append(data[d,])\n",
        " return np.array(X), np.array(Y)\n",
        "\n",
        "trainX,trainY =convertToMatrix(train,step)\n",
        "testX,testY =convertToMatrix(test,step)\n",
        "\n",
        "trainX = np.reshape(trainX, (trainX.shape[0], 1, trainX.shape[1]))\n",
        "testX = np.reshape(testX, (testX.shape[0], 1, testX.shape[1]))\n",
        "trainX.shape\n",
        "(800, 1, 4) "
      ],
      "execution_count": 16,
      "outputs": [
        {
          "output_type": "execute_result",
          "data": {
            "text/plain": [
              "(800, 1, 4)"
            ]
          },
          "metadata": {
            "tags": []
          },
          "execution_count": 16
        }
      ]
    },
    {
      "cell_type": "code",
      "metadata": {
        "id": "0R4pLwh8e5dw",
        "colab_type": "code",
        "colab": {
          "base_uri": "https://localhost:8080/",
          "height": 411
        },
        "outputId": "ab40f2cc-2fe1-42f5-d34e-5feadfc8aa63"
      },
      "source": [
        "model = Sequential()\n",
        "model.add(SimpleRNN(units=32, input_shape=(1,step), activation=\"relu\"))\n",
        "model.add(Dense(8, activation=\"relu\")) \n",
        "model.add(Dense(1))\n",
        "model.compile(loss='mean_squared_error', optimizer='rmsprop')\n",
        "model.summary()"
      ],
      "execution_count": 17,
      "outputs": [
        {
          "output_type": "stream",
          "text": [
            "WARNING:tensorflow:From /usr/local/lib/python3.6/dist-packages/keras/backend/tensorflow_backend.py:66: The name tf.get_default_graph is deprecated. Please use tf.compat.v1.get_default_graph instead.\n",
            "\n",
            "WARNING:tensorflow:From /usr/local/lib/python3.6/dist-packages/keras/backend/tensorflow_backend.py:541: The name tf.placeholder is deprecated. Please use tf.compat.v1.placeholder instead.\n",
            "\n",
            "WARNING:tensorflow:From /usr/local/lib/python3.6/dist-packages/keras/backend/tensorflow_backend.py:4432: The name tf.random_uniform is deprecated. Please use tf.random.uniform instead.\n",
            "\n",
            "WARNING:tensorflow:From /usr/local/lib/python3.6/dist-packages/keras/optimizers.py:793: The name tf.train.Optimizer is deprecated. Please use tf.compat.v1.train.Optimizer instead.\n",
            "\n",
            "Model: \"sequential_1\"\n",
            "_________________________________________________________________\n",
            "Layer (type)                 Output Shape              Param #   \n",
            "=================================================================\n",
            "simple_rnn_1 (SimpleRNN)     (None, 32)                1184      \n",
            "_________________________________________________________________\n",
            "dense_1 (Dense)              (None, 8)                 264       \n",
            "_________________________________________________________________\n",
            "dense_2 (Dense)              (None, 1)                 9         \n",
            "=================================================================\n",
            "Total params: 1,457\n",
            "Trainable params: 1,457\n",
            "Non-trainable params: 0\n",
            "_________________________________________________________________\n"
          ],
          "name": "stdout"
        }
      ]
    },
    {
      "cell_type": "code",
      "metadata": {
        "id": "IZolsPASfRQq",
        "colab_type": "code",
        "colab": {
          "base_uri": "https://localhost:8080/",
          "height": 1000
        },
        "outputId": "386aca98-f670-473b-a54b-058338af14a7"
      },
      "source": [
        "model.fit(trainX,trainY, epochs=100, batch_size=16, verbose=2)\n",
        "trainPredict = model.predict(trainX)\n",
        "testPredict= model.predict(testX)\n",
        "predicted=np.concatenate((trainPredict,testPredict),axis=0)"
      ],
      "execution_count": 18,
      "outputs": [
        {
          "output_type": "stream",
          "text": [
            "WARNING:tensorflow:From /usr/local/lib/python3.6/dist-packages/keras/backend/tensorflow_backend.py:1033: The name tf.assign_add is deprecated. Please use tf.compat.v1.assign_add instead.\n",
            "\n",
            "WARNING:tensorflow:From /usr/local/lib/python3.6/dist-packages/keras/backend/tensorflow_backend.py:1020: The name tf.assign is deprecated. Please use tf.compat.v1.assign instead.\n",
            "\n",
            "WARNING:tensorflow:From /usr/local/lib/python3.6/dist-packages/keras/backend/tensorflow_backend.py:3005: The name tf.Session is deprecated. Please use tf.compat.v1.Session instead.\n",
            "\n",
            "Epoch 1/100\n",
            "WARNING:tensorflow:From /usr/local/lib/python3.6/dist-packages/keras/backend/tensorflow_backend.py:190: The name tf.get_default_session is deprecated. Please use tf.compat.v1.get_default_session instead.\n",
            "\n",
            "WARNING:tensorflow:From /usr/local/lib/python3.6/dist-packages/keras/backend/tensorflow_backend.py:197: The name tf.ConfigProto is deprecated. Please use tf.compat.v1.ConfigProto instead.\n",
            "\n",
            "WARNING:tensorflow:From /usr/local/lib/python3.6/dist-packages/keras/backend/tensorflow_backend.py:207: The name tf.global_variables is deprecated. Please use tf.compat.v1.global_variables instead.\n",
            "\n",
            "WARNING:tensorflow:From /usr/local/lib/python3.6/dist-packages/keras/backend/tensorflow_backend.py:216: The name tf.is_variable_initialized is deprecated. Please use tf.compat.v1.is_variable_initialized instead.\n",
            "\n",
            "WARNING:tensorflow:From /usr/local/lib/python3.6/dist-packages/keras/backend/tensorflow_backend.py:223: The name tf.variables_initializer is deprecated. Please use tf.compat.v1.variables_initializer instead.\n",
            "\n",
            " - 1s - loss: 0.6995\n",
            "Epoch 2/100\n",
            " - 0s - loss: 0.4188\n",
            "Epoch 3/100\n",
            " - 0s - loss: 0.4071\n",
            "Epoch 4/100\n",
            " - 0s - loss: 0.3988\n",
            "Epoch 5/100\n",
            " - 0s - loss: 0.3971\n",
            "Epoch 6/100\n",
            " - 0s - loss: 0.3927\n",
            "Epoch 7/100\n",
            " - 0s - loss: 0.3953\n",
            "Epoch 8/100\n",
            " - 0s - loss: 0.3925\n",
            "Epoch 9/100\n",
            " - 0s - loss: 0.3926\n",
            "Epoch 10/100\n",
            " - 0s - loss: 0.3913\n",
            "Epoch 11/100\n",
            " - 0s - loss: 0.3879\n",
            "Epoch 12/100\n",
            " - 0s - loss: 0.3895\n",
            "Epoch 13/100\n",
            " - 0s - loss: 0.3892\n",
            "Epoch 14/100\n",
            " - 0s - loss: 0.3882\n",
            "Epoch 15/100\n",
            " - 0s - loss: 0.3860\n",
            "Epoch 16/100\n",
            " - 0s - loss: 0.3862\n",
            "Epoch 17/100\n",
            " - 0s - loss: 0.3850\n",
            "Epoch 18/100\n",
            " - 0s - loss: 0.3861\n",
            "Epoch 19/100\n",
            " - 0s - loss: 0.3856\n",
            "Epoch 20/100\n",
            " - 0s - loss: 0.3846\n",
            "Epoch 21/100\n",
            " - 0s - loss: 0.3856\n",
            "Epoch 22/100\n",
            " - 0s - loss: 0.3839\n",
            "Epoch 23/100\n",
            " - 0s - loss: 0.3846\n",
            "Epoch 24/100\n",
            " - 0s - loss: 0.3823\n",
            "Epoch 25/100\n",
            " - 0s - loss: 0.3812\n",
            "Epoch 26/100\n",
            " - 0s - loss: 0.3843\n",
            "Epoch 27/100\n",
            " - 0s - loss: 0.3812\n",
            "Epoch 28/100\n",
            " - 0s - loss: 0.3791\n",
            "Epoch 29/100\n",
            " - 0s - loss: 0.3810\n",
            "Epoch 30/100\n",
            " - 0s - loss: 0.3806\n",
            "Epoch 31/100\n",
            " - 0s - loss: 0.3808\n",
            "Epoch 32/100\n",
            " - 0s - loss: 0.3798\n",
            "Epoch 33/100\n",
            " - 0s - loss: 0.3797\n",
            "Epoch 34/100\n",
            " - 0s - loss: 0.3778\n",
            "Epoch 35/100\n",
            " - 0s - loss: 0.3784\n",
            "Epoch 36/100\n",
            " - 0s - loss: 0.3800\n",
            "Epoch 37/100\n",
            " - 0s - loss: 0.3787\n",
            "Epoch 38/100\n",
            " - 0s - loss: 0.3758\n",
            "Epoch 39/100\n",
            " - 0s - loss: 0.3752\n",
            "Epoch 40/100\n",
            " - 0s - loss: 0.3763\n",
            "Epoch 41/100\n",
            " - 0s - loss: 0.3761\n",
            "Epoch 42/100\n",
            " - 0s - loss: 0.3758\n",
            "Epoch 43/100\n",
            " - 0s - loss: 0.3751\n",
            "Epoch 44/100\n",
            " - 0s - loss: 0.3751\n",
            "Epoch 45/100\n",
            " - 0s - loss: 0.3752\n",
            "Epoch 46/100\n",
            " - 0s - loss: 0.3746\n",
            "Epoch 47/100\n",
            " - 0s - loss: 0.3745\n",
            "Epoch 48/100\n",
            " - 0s - loss: 0.3736\n",
            "Epoch 49/100\n",
            " - 0s - loss: 0.3727\n",
            "Epoch 50/100\n",
            " - 0s - loss: 0.3739\n",
            "Epoch 51/100\n",
            " - 0s - loss: 0.3726\n",
            "Epoch 52/100\n",
            " - 0s - loss: 0.3720\n",
            "Epoch 53/100\n",
            " - 0s - loss: 0.3731\n",
            "Epoch 54/100\n",
            " - 0s - loss: 0.3708\n",
            "Epoch 55/100\n",
            " - 0s - loss: 0.3709\n",
            "Epoch 56/100\n",
            " - 0s - loss: 0.3694\n",
            "Epoch 57/100\n",
            " - 0s - loss: 0.3691\n",
            "Epoch 58/100\n",
            " - 0s - loss: 0.3706\n",
            "Epoch 59/100\n",
            " - 0s - loss: 0.3699\n",
            "Epoch 60/100\n",
            " - 0s - loss: 0.3716\n",
            "Epoch 61/100\n",
            " - 0s - loss: 0.3712\n",
            "Epoch 62/100\n",
            " - 0s - loss: 0.3690\n",
            "Epoch 63/100\n",
            " - 0s - loss: 0.3700\n",
            "Epoch 64/100\n",
            " - 0s - loss: 0.3697\n",
            "Epoch 65/100\n",
            " - 0s - loss: 0.3697\n",
            "Epoch 66/100\n",
            " - 0s - loss: 0.3673\n",
            "Epoch 67/100\n",
            " - 0s - loss: 0.3674\n",
            "Epoch 68/100\n",
            " - 0s - loss: 0.3691\n",
            "Epoch 69/100\n",
            " - 0s - loss: 0.3662\n",
            "Epoch 70/100\n",
            " - 0s - loss: 0.3658\n",
            "Epoch 71/100\n",
            " - 0s - loss: 0.3672\n",
            "Epoch 72/100\n",
            " - 0s - loss: 0.3635\n",
            "Epoch 73/100\n",
            " - 0s - loss: 0.3683\n",
            "Epoch 74/100\n",
            " - 0s - loss: 0.3652\n",
            "Epoch 75/100\n",
            " - 0s - loss: 0.3664\n",
            "Epoch 76/100\n",
            " - 0s - loss: 0.3670\n",
            "Epoch 77/100\n",
            " - 0s - loss: 0.3650\n",
            "Epoch 78/100\n",
            " - 0s - loss: 0.3644\n",
            "Epoch 79/100\n",
            " - 0s - loss: 0.3671\n",
            "Epoch 80/100\n",
            " - 0s - loss: 0.3652\n",
            "Epoch 81/100\n",
            " - 0s - loss: 0.3649\n",
            "Epoch 82/100\n",
            " - 0s - loss: 0.3650\n",
            "Epoch 83/100\n",
            " - 0s - loss: 0.3626\n",
            "Epoch 84/100\n",
            " - 0s - loss: 0.3635\n",
            "Epoch 85/100\n",
            " - 0s - loss: 0.3640\n",
            "Epoch 86/100\n",
            " - 0s - loss: 0.3642\n",
            "Epoch 87/100\n",
            " - 0s - loss: 0.3648\n",
            "Epoch 88/100\n",
            " - 0s - loss: 0.3647\n",
            "Epoch 89/100\n",
            " - 0s - loss: 0.3643\n",
            "Epoch 90/100\n",
            " - 0s - loss: 0.3620\n",
            "Epoch 91/100\n",
            " - 0s - loss: 0.3619\n",
            "Epoch 92/100\n",
            " - 0s - loss: 0.3620\n",
            "Epoch 93/100\n",
            " - 0s - loss: 0.3599\n",
            "Epoch 94/100\n",
            " - 0s - loss: 0.3631\n",
            "Epoch 95/100\n",
            " - 0s - loss: 0.3609\n",
            "Epoch 96/100\n",
            " - 0s - loss: 0.3620\n",
            "Epoch 97/100\n",
            " - 0s - loss: 0.3601\n",
            "Epoch 98/100\n",
            " - 0s - loss: 0.3610\n",
            "Epoch 99/100\n",
            " - 0s - loss: 0.3613\n",
            "Epoch 100/100\n",
            " - 0s - loss: 0.3571\n"
          ],
          "name": "stdout"
        }
      ]
    },
    {
      "cell_type": "code",
      "metadata": {
        "id": "fhlUvHnbfaIl",
        "colab_type": "code",
        "colab": {
          "base_uri": "https://localhost:8080/",
          "height": 34
        },
        "outputId": "4aa29634-d207-41a5-9f6e-76d4ed112330"
      },
      "source": [
        "trainScore = model.evaluate(trainX, trainY, verbose=0)\n",
        "print(trainScore)"
      ],
      "execution_count": 19,
      "outputs": [
        {
          "output_type": "stream",
          "text": [
            "0.36719895362854005\n"
          ],
          "name": "stdout"
        }
      ]
    },
    {
      "cell_type": "code",
      "metadata": {
        "id": "eFrAaD6SfeiZ",
        "colab_type": "code",
        "colab": {
          "base_uri": "https://localhost:8080/",
          "height": 265
        },
        "outputId": "8a506110-7c13-4404-a730-c8970b070831"
      },
      "source": [
        "index = df.index.values\n",
        "plt.plot(index,df)\n",
        "plt.plot(index,predicted)\n",
        "plt.axvline(df.index[Tp], c=\"r\")\n",
        "plt.show()"
      ],
      "execution_count": 20,
      "outputs": [
        {
          "output_type": "display_data",
          "data": {
            "image/png": "[encoded data removed]",
            "text/plain": [
              "<Figure size 432x288 with 1 Axes>"
            ]
          },
          "metadata": {
            "tags": []
          }
        }
      ]
    }
  ]
}